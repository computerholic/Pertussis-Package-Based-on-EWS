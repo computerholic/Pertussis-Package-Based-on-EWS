{
 "cells": [
  {
   "cell_type": "markdown",
   "metadata": {},
   "source": [
    "# Report\n",
    "The data set is \"pertussis 51.12.csv\" which containes 49 states of USA data during 1951 January to 2012 December. (1 per month = 744 samples)"
   ]
  },
  {
   "cell_type": "code",
   "execution_count": 172,
   "metadata": {},
   "outputs": [],
   "source": [
    "import pandas as pd\n",
    "data_df = pd.read_csv('pertussis.51.12.csv')"
   ]
  },
  {
   "cell_type": "code",
   "execution_count": 179,
   "metadata": {},
   "outputs": [
    {
     "data": {
      "text/html": [
       "<div>\n",
       "<style>\n",
       "    .dataframe thead tr:only-child th {\n",
       "        text-align: right;\n",
       "    }\n",
       "\n",
       "    .dataframe thead th {\n",
       "        text-align: left;\n",
       "    }\n",
       "\n",
       "    .dataframe tbody tr th {\n",
       "        vertical-align: top;\n",
       "    }\n",
       "</style>\n",
       "<table border=\"1\" class=\"dataframe\">\n",
       "  <thead>\n",
       "    <tr style=\"text-align: right;\">\n",
       "      <th></th>\n",
       "      <th>YEAR</th>\n",
       "      <th>MONTH</th>\n",
       "      <th>Alabama</th>\n",
       "      <th>Arizona</th>\n",
       "      <th>Arkansas</th>\n",
       "      <th>California</th>\n",
       "      <th>Colorado</th>\n",
       "      <th>Connecticut</th>\n",
       "      <th>Delaware</th>\n",
       "      <th>District.of.Columbia</th>\n",
       "      <th>...</th>\n",
       "      <th>South.Dakota</th>\n",
       "      <th>Tennessee</th>\n",
       "      <th>Texas</th>\n",
       "      <th>Utah</th>\n",
       "      <th>Vermont</th>\n",
       "      <th>Virginia</th>\n",
       "      <th>Washington</th>\n",
       "      <th>West.Virginia</th>\n",
       "      <th>Wisconsin</th>\n",
       "      <th>Wyoming</th>\n",
       "    </tr>\n",
       "  </thead>\n",
       "  <tbody>\n",
       "    <tr>\n",
       "      <th>0</th>\n",
       "      <td>1951</td>\n",
       "      <td>1</td>\n",
       "      <td>132.0</td>\n",
       "      <td>251.0</td>\n",
       "      <td>124.0</td>\n",
       "      <td>256.0</td>\n",
       "      <td>117.0</td>\n",
       "      <td>105.0</td>\n",
       "      <td>19.0</td>\n",
       "      <td>23.0</td>\n",
       "      <td>...</td>\n",
       "      <td>6.0</td>\n",
       "      <td>89.0</td>\n",
       "      <td>886.0</td>\n",
       "      <td>6.0</td>\n",
       "      <td>250.0</td>\n",
       "      <td>330.0</td>\n",
       "      <td>116.0</td>\n",
       "      <td>152.0</td>\n",
       "      <td>335.0</td>\n",
       "      <td>12.0</td>\n",
       "    </tr>\n",
       "    <tr>\n",
       "      <th>1</th>\n",
       "      <td>1951</td>\n",
       "      <td>2</td>\n",
       "      <td>94.0</td>\n",
       "      <td>206.0</td>\n",
       "      <td>217.0</td>\n",
       "      <td>199.0</td>\n",
       "      <td>52.0</td>\n",
       "      <td>66.0</td>\n",
       "      <td>4.0</td>\n",
       "      <td>23.0</td>\n",
       "      <td>...</td>\n",
       "      <td>20.0</td>\n",
       "      <td>33.0</td>\n",
       "      <td>1177.0</td>\n",
       "      <td>10.0</td>\n",
       "      <td>108.0</td>\n",
       "      <td>197.0</td>\n",
       "      <td>52.0</td>\n",
       "      <td>155.0</td>\n",
       "      <td>277.0</td>\n",
       "      <td>12.0</td>\n",
       "    </tr>\n",
       "    <tr>\n",
       "      <th>2</th>\n",
       "      <td>1951</td>\n",
       "      <td>3</td>\n",
       "      <td>102.0</td>\n",
       "      <td>352.0</td>\n",
       "      <td>142.0</td>\n",
       "      <td>185.0</td>\n",
       "      <td>71.0</td>\n",
       "      <td>19.0</td>\n",
       "      <td>6.0</td>\n",
       "      <td>16.0</td>\n",
       "      <td>...</td>\n",
       "      <td>6.0</td>\n",
       "      <td>86.0</td>\n",
       "      <td>1583.0</td>\n",
       "      <td>38.0</td>\n",
       "      <td>39.0</td>\n",
       "      <td>279.0</td>\n",
       "      <td>76.0</td>\n",
       "      <td>193.0</td>\n",
       "      <td>190.0</td>\n",
       "      <td>27.0</td>\n",
       "    </tr>\n",
       "  </tbody>\n",
       "</table>\n",
       "<p>3 rows × 51 columns</p>\n",
       "</div>"
      ],
      "text/plain": [
       "   YEAR  MONTH  Alabama  Arizona  Arkansas  California  Colorado  Connecticut  \\\n",
       "0  1951      1    132.0    251.0     124.0       256.0     117.0        105.0   \n",
       "1  1951      2     94.0    206.0     217.0       199.0      52.0         66.0   \n",
       "2  1951      3    102.0    352.0     142.0       185.0      71.0         19.0   \n",
       "\n",
       "   Delaware  District.of.Columbia   ...     South.Dakota  Tennessee   Texas  \\\n",
       "0      19.0                  23.0   ...              6.0       89.0   886.0   \n",
       "1       4.0                  23.0   ...             20.0       33.0  1177.0   \n",
       "2       6.0                  16.0   ...              6.0       86.0  1583.0   \n",
       "\n",
       "   Utah  Vermont  Virginia  Washington  West.Virginia  Wisconsin  Wyoming  \n",
       "0   6.0    250.0     330.0       116.0          152.0      335.0     12.0  \n",
       "1  10.0    108.0     197.0        52.0          155.0      277.0     12.0  \n",
       "2  38.0     39.0     279.0        76.0          193.0      190.0     27.0  \n",
       "\n",
       "[3 rows x 51 columns]"
      ]
     },
     "execution_count": 179,
     "metadata": {},
     "output_type": "execute_result"
    }
   ],
   "source": [
    "data_df.head(3)"
   ]
  },
  {
   "cell_type": "markdown",
   "metadata": {},
   "source": [
    "Now we want to create the time variable (%Y-%m-%d) based on the first and second columns (YEAR, MONTH)\n"
   ]
  },
  {
   "cell_type": "code",
   "execution_count": 177,
   "metadata": {},
   "outputs": [],
   "source": [
    "Dates = data_df [ [\"YEAR\",\"MONTH\"] ]\n",
    "time = Dates['YEAR'].astype(str) + \"-\" + Dates['MONTH'].astype(str) + \"-01\" #For each state ?\n",
    "time = pd.to_datetime(time , format = '%Y-%m-%d')"
   ]
  },
  {
   "cell_type": "markdown",
   "metadata": {
    "collapsed": true
   },
   "source": [
    "Also we need time series based on the float(64) to plot the data easily. (1951.1, 1957,2, 1951,3 ... 1951.12, 1953.0, 1953.1, 1953.2, ...)"
   ]
  },
  {
   "cell_type": "code",
   "execution_count": 163,
   "metadata": {
    "collapsed": true
   },
   "outputs": [],
   "source": [
    "Y = data_df[\"YEAR\"]\n",
    "M = data_df[\"MONTH\"]\n",
    "New_M = M / 12.0   # one way\n",
    "Time_Series = Y.values + New_M.values"
   ]
  },
  {
   "cell_type": "markdown",
   "metadata": {},
   "source": [
    "In california_EWS.py you will see that we can get ghe name of the state and doing the moving average."
   ]
  },
  {
   "cell_type": "code",
   "execution_count": 164,
   "metadata": {
    "collapsed": true
   },
   "outputs": [],
   "source": [
    "state_name = \"California\""
   ]
  },
  {
   "cell_type": "markdown",
   "metadata": {},
   "source": [
    "Given The name of the state we can do the moving average."
   ]
  },
  {
   "cell_type": "code",
   "execution_count": 178,
   "metadata": {},
   "outputs": [],
   "source": [
    "import statsmodels.api as sm\n",
    "\n",
    "state = ( data_df[state_name] )\n",
    "\n",
    "state.index = pd.DatetimeIndex(time[:len(state)])\n",
    "\n",
    "# for filling with average! ---------------------  # can be better later ...\n",
    "data_df_np_array = data_df[state_name].values \n",
    "average = np.nanmean(data_df_np_array)\n",
    "#------------------------------------------------\n",
    "res = sm.tsa.seasonal_decompose ( (data_df[state_name]) .fillna(average) ,freq=12)\n",
    "\n",
    "pertussis_observed_state = res.observed\n",
    "pertussis_seasonal_state = res.seasonal\n",
    "pertussis_trend_state = res.trend"
   ]
  },
  {
   "cell_type": "markdown",
   "metadata": {},
   "source": [
    "#------------For doing the segmented linear regression we need to create the funciton in a file name piecewise.\n",
    "it takes x and y as an array.--------------"
   ]
  },
  {
   "cell_type": "code",
   "execution_count": 169,
   "metadata": {},
   "outputs": [
    {
     "data": {
      "text/plain": [
       "'\\nx = np.array([1, 2, 3, 4, 5, 6, 7, 8, 9, 10 ,11, 12, 13, 14, 15])\\ny = np.array([5, 7, 9, 11, 13, 15, 28.92, 42.81, 56.7, 70.59, 84.47, 98.36, 112.25, 126.14, 140.03])\\npiecewise(x,y)\\n'"
      ]
     },
     "execution_count": 169,
     "metadata": {},
     "output_type": "execute_result"
    }
   ],
   "source": [
    "import numpy as np\n",
    "from sklearn.linear_model import LinearRegression\n",
    "import matplotlib.pyplot as plt\n",
    "from linear_fit import linear_fit #local function\n",
    "\n",
    "#============================================ Segmented Linear Regression ==============================================\n",
    "# this function is using in segmented_linear_regression function.\n",
    "import numpy as np\n",
    "def linear_fit( x , a1, b1, a2, b2, bp ):\n",
    "    x = x.reshape(-1)\n",
    "    def lf(xi):\n",
    "        if(xi < x[bp]):\n",
    "            return(a1*xi + b1)\n",
    "        else:\n",
    "            return(a2*xi + b2)\n",
    "\n",
    "    return(np.array([lf(i) for i in x]))\n",
    "\n",
    "#=======================================================================================================================\n",
    "def piecewise(x,y):\n",
    "    x = x.reshape(-1,1)\n",
    "    y= y.reshape(-1,1)\n",
    "\n",
    "    print(\"Len of X array is:\",len(x))\n",
    "    print(\"Len of Y array is:\",len(y))\n",
    "\n",
    "    model1 = LinearRegression()  # fit_intercept = False\n",
    "    model2 = LinearRegression()  # fit_intercept = False\n",
    "    s = -np.inf\n",
    "    for i in range(1,len(x)):\n",
    "\n",
    "        model1.fit(x[:i], y[:i])\n",
    "        model2.fit(x[i:], y[i:])\n",
    "\n",
    "        s1 = model1.score(x[:i],y[:i])\n",
    "        s2 = model2.score(x[i:],y[i:])\n",
    "        if(s1+s2 > s):\n",
    "            s = s1+s2\n",
    "            a1 = model1.coef_.reshape(-1)\n",
    "            a2 = model2.coef_.reshape(-1)\n",
    "            b1 = model1.intercept_\n",
    "            b2 = model2.intercept_\n",
    "            bp = i\n",
    "\n",
    "    y_fit = linear_fit(x, a1, b1, a2, b2, bp)\n",
    "\n",
    "    #print(y_fit)\n",
    "    #print(y_fit[x < x[bp]])\n",
    "    plt.figure(figsize=(16, 12))\n",
    "    plt.plot(x.reshape(-1),y.reshape(-1),'b')\n",
    "\n",
    "    plt.plot(x[x <x[bp]],y_fit[x < x[bp]],'r')\n",
    "    plt.plot(x[x >=x[bp]],y_fit[x >=x[bp]],'r')\n",
    "\n",
    "    return y_fit.reshape(-1) # Transfer the Horizantal to Vertical!\n",
    "    #print(y_fit[bp])\n",
    "\n",
    "    #plt.show()\n",
    "#=======================================================================================================================\n",
    "\n",
    "#simple example:\n",
    "#input ()\n",
    "'''\n",
    "x = np.array([1, 2, 3, 4, 5, 6, 7, 8, 9, 10 ,11, 12, 13, 14, 15])\n",
    "y = np.array([5, 7, 9, 11, 13, 15, 28.92, 42.81, 56.7, 70.59, 84.47, 98.36, 112.25, 126.14, 140.03])\n",
    "piecewise(x,y)\n",
    "'''"
   ]
  },
  {
   "cell_type": "markdown",
   "metadata": {},
   "source": [
    "#----------------------------------------           So now we can use our variables (pertussis rate, time) as an input to get our final result     ---------------------------------#"
   ]
  },
  {
   "cell_type": "markdown",
   "metadata": {},
   "source": [
    "#--------------------------------------------------------------------------- Piece wise on Trend --------------------------------------------------------------------------------------#"
   ]
  },
  {
   "cell_type": "code",
   "execution_count": 170,
   "metadata": {},
   "outputs": [],
   "source": [
    "x = np.array(Time_Series[:len(pertussis_trend_state.dropna())])\n",
    "y = np.array(pertussis_trend_state.dropna())"
   ]
  },
  {
   "cell_type": "code",
   "execution_count": null,
   "metadata": {
    "collapsed": true
   },
   "outputs": [],
   "source": []
  },
  {
   "cell_type": "code",
   "execution_count": 180,
   "metadata": {},
   "outputs": [
    {
     "name": "stdout",
     "output_type": "stream",
     "text": [
      "Len of X array is: 732\n",
      "Len of Y array is: 732\n"
     ]
    },
    {
     "data": {
      "text/plain": [
       "<matplotlib.text.Text at 0x7fcffca915c0>"
      ]
     },
     "execution_count": 180,
     "metadata": {},
     "output_type": "execute_result"
    }
   ],
   "source": [
    "piecewise(x, y)\n",
    "plt.title(\"California\")\n",
    "#plt.show()"
   ]
  },
  {
   "cell_type": "markdown",
   "metadata": {},
   "source": [
    "----------------------------------------------------------------------- EWS PLOT PACKAGE !"
   ]
  },
  {
   "cell_type": "code",
   "execution_count": 131,
   "metadata": {},
   "outputs": [
    {
     "name": "stdout",
     "output_type": "stream",
     "text": [
      "Len of X array is: 732\n",
      "Len of Y array is: 732\n"
     ]
    },
    {
     "data": {
      "image/png": "[encoded data removed]",
      "text/plain": [
       "<matplotlib.figure.Figure at 0x7fd042d2eb38>"
      ]
     },
     "execution_count": 131,
     "metadata": {},
     "output_type": "execute_result"
    }
   ],
   "source": [
    "import ews\n",
    "import ews_plot\n",
    "\n",
    "piecewise_fited = piecewise(x,y)\n",
    "\n",
    "filename=\"Cal_using_mean/\"+str(state_name)+\"_Trend\"+\".pdf\"\n",
    "\n",
    "ews_df = ews.get_ews(y, windowsize=100, ac_lag=1)\n",
    "ews_df[\"Time\"] = x\n",
    "signals = [\"variance\",\"mean\",\"index_of_dispersion\",\"autocorrelation\",\"decay_time\",\"coefficient_of_variation\",\"kurtosis\",\"skewness\"]\n",
    "\n",
    "ews_df[\"piecewise_fited\"] = piecewise_fited #Added Now\n",
    "\n",
    "ews_plot.ews_plot (ews_df,signals,filename,\"trend-mean-imputed\")"
   ]
  }
 ],
 "metadata": {
  "kernelspec": {
   "display_name": "Python 3",
   "language": "python",
   "name": "python3"
  },
  "language_info": {
   "codemirror_mode": {
    "name": "ipython",
    "version": 3
   },
   "file_extension": ".py",
   "mimetype": "text/x-python",
   "name": "python",
   "nbconvert_exporter": "python",
   "pygments_lexer": "ipython3",
   "version": "3.6.2"
  }
 },
 "nbformat": 4,
 "nbformat_minor": 2
}
